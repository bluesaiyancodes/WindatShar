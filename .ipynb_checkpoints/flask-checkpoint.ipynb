{
 "cells": [
  {
   "cell_type": "code",
   "execution_count": 1,
   "metadata": {},
   "outputs": [],
   "source": [
    "\n",
    "from flask import Flask,request, render_template\n",
    "import json\n",
    "import plotly\n",
    "import chart_studio.plotly as py\n",
    "import plotly.graph_objs as go\n",
    "import numpy as np\n",
    "\n",
    "from SHARv5Flask import wind_shar, hyperparameters \n",
    "from SHARv6 import wind_shar_animate\n",
    "#from windani import render_all"
   ]
  },
  {
   "cell_type": "code",
   "execution_count": 2,
   "metadata": {},
   "outputs": [],
   "source": [
    "app = Flask(__name__)\n"
   ]
  },
  {
   "cell_type": "code",
   "execution_count": 3,
   "metadata": {},
   "outputs": [],
   "source": [
    "@app.route('/')\n",
    "def index():\n",
    "    return render_template('index.html')"
   ]
  },
  {
   "cell_type": "code",
   "execution_count": 4,
   "metadata": {},
   "outputs": [],
   "source": [
    "params = {}\n",
    "@app.route('/', methods=['POST'])\n",
    "def my_form_post():\n",
    "    if request.method == 'POST':\n",
    "        params[\"level\"] = int(request.form['level'])\n",
    "        params[\"leap\"] = int(request.form['leap'])\n",
    "        params[\"h\"] = int(request.form['h'])\n",
    "        params[\"arrow_size\"] = float(request.form['arrow_size'])\n",
    "        params[\"terrain_flag\"] = True if request.form[\"terr_flag\"] == \"show\" else False\n",
    "        params[\"wind_flag\"] = True if request.form[\"wnd_flag\"] == \"show\" else False\n",
    "        params[\"contour_flag\"] =  True if request.form[\"cntr_flag\"] == \"show\" else False\n",
    "        params[\"animate_flag\"] =  True if request.form[\"anim_flag\"] == \"show\" else False\n",
    "        if params[\"animate_flag\"]:\n",
    "            #traces = wind_shar_animate(params)\n",
    "            !python windani.py\n",
    "            traces = {}\n",
    "        else:\n",
    "            traces = wind_shar(params)\n",
    "        #data = traces\n",
    "        #print(params[\"terrain_flag\"])\n",
    "        graphJSON = json.dumps(traces, cls=plotly.utils.PlotlyJSONEncoder)\n",
    "        return render_template('index.html',graphJSON=graphJSON)"
   ]
  },
  {
   "cell_type": "code",
   "execution_count": null,
   "metadata": {},
   "outputs": [
    {
     "name": "stdout",
     "output_type": "stream",
     "text": [
      " * Serving Flask app \"__main__\" (lazy loading)\n",
      " * Environment: production\n",
      "   WARNING: This is a development server. Do not use it in a production deployment.\n",
      "   Use a production WSGI server instead.\n",
      " * Debug mode: off\n"
     ]
    },
    {
     "name": "stderr",
     "output_type": "stream",
     "text": [
      " * Running on http://127.0.0.1:5000/ (Press CTRL+C to quit)\n"
     ]
    }
   ],
   "source": [
    "if __name__ == \"__main__\":\n",
    "    app.run()"
   ]
  },
  {
   "cell_type": "code",
   "execution_count": null,
   "metadata": {},
   "outputs": [],
   "source": []
  },
  {
   "cell_type": "code",
   "execution_count": null,
   "metadata": {},
   "outputs": [],
   "source": []
  },
  {
   "cell_type": "code",
   "execution_count": null,
   "metadata": {},
   "outputs": [],
   "source": []
  },
  {
   "cell_type": "code",
   "execution_count": null,
   "metadata": {},
   "outputs": [],
   "source": []
  },
  {
   "cell_type": "code",
   "execution_count": null,
   "metadata": {},
   "outputs": [],
   "source": []
  }
 ],
 "metadata": {
  "kernelspec": {
   "display_name": "Python 3",
   "language": "python",
   "name": "python3"
  },
  "language_info": {
   "codemirror_mode": {
    "name": "ipython",
    "version": 3
   },
   "file_extension": ".py",
   "mimetype": "text/x-python",
   "name": "python",
   "nbconvert_exporter": "python",
   "pygments_lexer": "ipython3",
   "version": "3.7.5"
  }
 },
 "nbformat": 4,
 "nbformat_minor": 2
}
